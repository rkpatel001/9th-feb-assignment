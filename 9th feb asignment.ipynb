{
 "cells": [
  {
   "cell_type": "code",
   "execution_count": 42,
   "id": "b565ce43-cfa9-48f8-955a-6eb418a683b2",
   "metadata": {},
   "outputs": [],
   "source": [
    "'''Q1, Create a vehicle class with an init method having instance variables as name_of_vehicle, max_speed\n",
    "and average_of_vehicle.'''\n",
    "\n",
    "\n",
    "\n",
    "\n",
    "\n",
    "class vehical:\n",
    "    \n",
    "    def __init__(self,name,speed,avarage):\n",
    "        self.__name = name      \n",
    "        self.__speed = speed\n",
    "        self.__avarage = avarage\n",
    "        \n",
    "    def get_speed(self):\n",
    "        return self.__speed\n",
    "    \n",
    "    def get_name(self):\n",
    "        return self.__name\n",
    "    \n",
    "    def get_avarage(self):\n",
    "        return self.__avarage\n",
    "        \n",
    "    def test(self):\n",
    "        return self.__speed,self.__name,self.__avarage"
   ]
  },
  {
   "cell_type": "code",
   "execution_count": 54,
   "id": "d449e7d1-584f-4f09-8b94-e329feba96f9",
   "metadata": {},
   "outputs": [],
   "source": [
    "rk= vehical(\"urus\",200,3)"
   ]
  },
  {
   "cell_type": "code",
   "execution_count": 60,
   "id": "f1910a56-9451-4bf2-8f5a-fccbf49e6c98",
   "metadata": {},
   "outputs": [
    {
     "data": {
      "text/plain": [
       "200"
      ]
     },
     "execution_count": 60,
     "metadata": {},
     "output_type": "execute_result"
    }
   ],
   "source": [
    "rk._vehical__speed"
   ]
  },
  {
   "cell_type": "raw",
   "id": "f779b911-3612-4ea8-8b1c-41e0976fedb6",
   "metadata": {},
   "source": [
    "rk.get_speed()"
   ]
  },
  {
   "cell_type": "code",
   "execution_count": 45,
   "id": "bee6dde7-a031-4142-afd4-bda2a802ec71",
   "metadata": {},
   "outputs": [
    {
     "data": {
      "text/plain": [
       "'urus'"
      ]
     },
     "execution_count": 45,
     "metadata": {},
     "output_type": "execute_result"
    }
   ],
   "source": [
    "rk.get_name()"
   ]
  },
  {
   "cell_type": "code",
   "execution_count": 46,
   "id": "1d89933e-64f1-4a98-a545-311cf08005e6",
   "metadata": {},
   "outputs": [
    {
     "data": {
      "text/plain": [
       "3"
      ]
     },
     "execution_count": 46,
     "metadata": {},
     "output_type": "execute_result"
    }
   ],
   "source": [
    "rk.get_avarage()"
   ]
  },
  {
   "cell_type": "code",
   "execution_count": 48,
   "id": "44994a47-0ad6-4c68-a9ce-a9138d636a82",
   "metadata": {},
   "outputs": [
    {
     "data": {
      "text/plain": [
       "(200, 'urus', 3)"
      ]
     },
     "execution_count": 48,
     "metadata": {},
     "output_type": "execute_result"
    }
   ],
   "source": [
    "rk.test()"
   ]
  },
  {
   "cell_type": "code",
   "execution_count": null,
   "id": "8099afc5-2ea1-4cb5-aa1d-4028426ea6c0",
   "metadata": {},
   "outputs": [],
   "source": [
    "\n"
   ]
  },
  {
   "cell_type": "code",
   "execution_count": null,
   "id": "15fda3ee-695e-4368-95e4-e6970d0ae87b",
   "metadata": {},
   "outputs": [],
   "source": [
    "'''Q2. Create a child class car from the vehicle class created in Que 1, which will inherit the vehicle class.\n",
    "Create a method named seating_capacity which takes capacity as an argument and returns the name of\n",
    "the vehicle and its seating capacity.'''"
   ]
  },
  {
   "cell_type": "code",
   "execution_count": 117,
   "id": "d3fadf92-b6d4-48a2-ab6d-268f87c6f232",
   "metadata": {},
   "outputs": [],
   "source": [
    "\n",
    "\n",
    "class vehical:\n",
    "    \n",
    "    def __init__(self,name,speed,avarage):\n",
    "        self.__name = name      \n",
    "        self.__speed = speed\n",
    "        self.__avarage = avarage"
   ]
  },
  {
   "cell_type": "code",
   "execution_count": 118,
   "id": "01931214-5e3c-433c-bcb9-0cbfdb1a8c4c",
   "metadata": {},
   "outputs": [],
   "source": [
    "class car(vehical):\n",
    "    def capacity(self,capasity):\n",
    "        self.__capacity = capasity\n",
    "        \n",
    "    \n",
    "    def get_info(self):\n",
    "        return self.__name,self.__capacity"
   ]
  },
  {
   "cell_type": "code",
   "execution_count": 119,
   "id": "8b05e7bd-b598-4fe8-8e3a-d8e12aed0631",
   "metadata": {},
   "outputs": [],
   "source": [
    "rk = car(\"verna\",140,15)"
   ]
  },
  {
   "cell_type": "raw",
   "id": "31edee8d-1774-4f15-9a00-2064a16a4150",
   "metadata": {},
   "source": [
    "rk.capacity(4)"
   ]
  },
  {
   "cell_type": "raw",
   "id": "b5c9d272-7c8e-4522-a4a0-c738f2981e07",
   "metadata": {},
   "source": [
    "rk.get_info()"
   ]
  },
  {
   "cell_type": "code",
   "execution_count": null,
   "id": "11a9570a-2465-4784-b24d-95d41e8951e6",
   "metadata": {},
   "outputs": [],
   "source": []
  },
  {
   "cell_type": "code",
   "execution_count": null,
   "id": "23312cbb-fc4e-495f-82a8-2303cdc45ef7",
   "metadata": {},
   "outputs": [],
   "source": [
    "'''Q3. What is multiple inheritance? Write a python code to demonstrate multiple inheritance.'''"
   ]
  },
  {
   "cell_type": "code",
   "execution_count": 122,
   "id": "60856fb5-5518-4d58-bae7-62900afe21fd",
   "metadata": {},
   "outputs": [],
   "source": [
    "#Multiple inheritance is we can use multipal class in another class "
   ]
  },
  {
   "cell_type": "code",
   "execution_count": 130,
   "id": "7be4f38f-fa07-462a-996d-f8247ba42270",
   "metadata": {},
   "outputs": [],
   "source": [
    "class test1:\n",
    "    \n",
    "    def try1(self):\n",
    "        return\"this is test1\""
   ]
  },
  {
   "cell_type": "code",
   "execution_count": 131,
   "id": "db6c5778-e6b8-4063-92b0-dcfdfbeb101e",
   "metadata": {},
   "outputs": [],
   "source": [
    "class test2:\n",
    "    \n",
    "    def try2(self):\n",
    "        return\"this is test2\""
   ]
  },
  {
   "cell_type": "code",
   "execution_count": 132,
   "id": "c0333958-f17d-4674-ad41-e14cfb1528a1",
   "metadata": {},
   "outputs": [],
   "source": [
    "class test3(test1,test2):\n",
    "    pass\n",
    "        "
   ]
  },
  {
   "cell_type": "code",
   "execution_count": 133,
   "id": "4a6e7c65-19fa-4586-b05b-d127c9cc5c5c",
   "metadata": {},
   "outputs": [],
   "source": [
    "rk = test3()"
   ]
  },
  {
   "cell_type": "code",
   "execution_count": 134,
   "id": "c00b4ef8-c4e5-47c8-b6dd-0ec8c5d3b2d0",
   "metadata": {},
   "outputs": [
    {
     "data": {
      "text/plain": [
       "'this is test1'"
      ]
     },
     "execution_count": 134,
     "metadata": {},
     "output_type": "execute_result"
    }
   ],
   "source": [
    "rk.try1()"
   ]
  },
  {
   "cell_type": "code",
   "execution_count": 135,
   "id": "09c50253-b496-459f-b995-dc1fa28d7c27",
   "metadata": {},
   "outputs": [
    {
     "data": {
      "text/plain": [
       "'this is test2'"
      ]
     },
     "execution_count": 135,
     "metadata": {},
     "output_type": "execute_result"
    }
   ],
   "source": [
    "rk.try2()"
   ]
  },
  {
   "cell_type": "code",
   "execution_count": null,
   "id": "556ae179-5616-4766-b4f5-32acf308238c",
   "metadata": {},
   "outputs": [],
   "source": []
  },
  {
   "cell_type": "code",
   "execution_count": null,
   "id": "c6ca50db-c7fb-442b-8870-f9252d5925cb",
   "metadata": {},
   "outputs": [],
   "source": [
    "'''Q4. What are getter and setter in python? Create a class and create a getter and a setter method in this\n",
    "class.'''"
   ]
  },
  {
   "cell_type": "code",
   "execution_count": 136,
   "id": "d37c0e3d-6167-474e-a590-cae3d8917d95",
   "metadata": {},
   "outputs": [],
   "source": [
    " # getter: A method that allows you to access an attribute in a given class\n",
    " # Setter: A method that allows you to set or mutate (change) the value of an attribute in a class"
   ]
  },
  {
   "cell_type": "code",
   "execution_count": 156,
   "id": "1db1c8e6-4388-4b50-8da9-fed432bfe12d",
   "metadata": {},
   "outputs": [],
   "source": [
    "class info1:\n",
    "    \n",
    "    def __init__(self,name,id1):\n",
    "        self._name = name\n",
    "        self._id1 = id1\n",
    "        \n",
    "    def get_name(self):\n",
    "        return self._name\n",
    "    \n",
    "    def get_id(self):\n",
    "        return self._id1\n",
    "    \n",
    "    def set_name(self,value):\n",
    "        self._name = value\n",
    "        \n",
    "    def set_id(self,value):\n",
    "        self._id1 = value\n",
    "     \n",
    "    "
   ]
  },
  {
   "cell_type": "code",
   "execution_count": 157,
   "id": "6d9a0482-d974-4d6d-bcd9-4df934420315",
   "metadata": {},
   "outputs": [],
   "source": [
    "rk = info1(\"ronak\",1001) "
   ]
  },
  {
   "cell_type": "code",
   "execution_count": 158,
   "id": "37da2313-4147-44c6-8ac6-6c1c412b73f4",
   "metadata": {},
   "outputs": [
    {
     "data": {
      "text/plain": [
       "'ronak'"
      ]
     },
     "execution_count": 158,
     "metadata": {},
     "output_type": "execute_result"
    }
   ],
   "source": [
    "rk.get_name()"
   ]
  },
  {
   "cell_type": "code",
   "execution_count": 159,
   "id": "1fb219df-5269-428a-96ce-e8f93a93df3d",
   "metadata": {},
   "outputs": [
    {
     "data": {
      "text/plain": [
       "1001"
      ]
     },
     "execution_count": 159,
     "metadata": {},
     "output_type": "execute_result"
    }
   ],
   "source": [
    "rk.get_id()"
   ]
  },
  {
   "cell_type": "code",
   "execution_count": 160,
   "id": "30c9727a-f4eb-46a5-adcf-2e055712a121",
   "metadata": {},
   "outputs": [],
   "source": [
    "rk.set_name(\"hk\")"
   ]
  },
  {
   "cell_type": "code",
   "execution_count": 161,
   "id": "ddeb61d6-e884-4a40-9e72-5e54a69908b2",
   "metadata": {},
   "outputs": [
    {
     "data": {
      "text/plain": [
       "'hk'"
      ]
     },
     "execution_count": 161,
     "metadata": {},
     "output_type": "execute_result"
    }
   ],
   "source": [
    "rk.get_name()"
   ]
  },
  {
   "cell_type": "code",
   "execution_count": 162,
   "id": "d9825fd5-eaa0-4a5f-b2ad-b0555cbd587b",
   "metadata": {},
   "outputs": [],
   "source": [
    "rk.set_id(2001)"
   ]
  },
  {
   "cell_type": "code",
   "execution_count": 163,
   "id": "bfba3e54-c416-4dbd-b134-b95a178e6984",
   "metadata": {},
   "outputs": [
    {
     "data": {
      "text/plain": [
       "2001"
      ]
     },
     "execution_count": 163,
     "metadata": {},
     "output_type": "execute_result"
    }
   ],
   "source": [
    "rk.get_id()"
   ]
  },
  {
   "cell_type": "code",
   "execution_count": null,
   "id": "b74ba6f1-1b41-4e09-9449-42c2c5cacb3b",
   "metadata": {},
   "outputs": [],
   "source": [
    "'''Q5.What is method overriding in python? Write a python code to demonstrate method overriding.'''"
   ]
  },
  {
   "cell_type": "code",
   "execution_count": null,
   "id": "056c60ab-cb96-4b73-bf30-c2cc7937d72c",
   "metadata": {},
   "outputs": [],
   "source": []
  }
 ],
 "metadata": {
  "kernelspec": {
   "display_name": "Python 3 (ipykernel)",
   "language": "python",
   "name": "python3"
  },
  "language_info": {
   "codemirror_mode": {
    "name": "ipython",
    "version": 3
   },
   "file_extension": ".py",
   "mimetype": "text/x-python",
   "name": "python",
   "nbconvert_exporter": "python",
   "pygments_lexer": "ipython3",
   "version": "3.10.8"
  }
 },
 "nbformat": 4,
 "nbformat_minor": 5
}
